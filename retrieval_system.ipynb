{
 "cells": [
  {
   "cell_type": "code",
   "execution_count": 1,
   "metadata": {},
   "outputs": [],
   "source": [
    "import string\n",
    "from nltk.stem import *\n",
    "import os\n",
    "from sklearn.feature_extraction.text import CountVectorizer\n",
    "from sklearn.preprocessing import Binarizer\n",
    "from sklearn.feature_extraction.text import TfidfVectorizer\n",
    "import re\n",
    "import joblib\n",
    "from sklearn.metrics.pairwise import cosine_similarity\n",
    "import numpy as np"
   ]
  },
  {
   "cell_type": "markdown",
   "metadata": {},
   "source": [
    "# Preprocesamiento\n",
    "Se limpian los datos retirando las stopwords que se indica en el archivo ademas de aplicar la tecnica de stimming a todo el corpus"
   ]
  },
  {
   "cell_type": "code",
   "execution_count": 2,
   "metadata": {},
   "outputs": [],
   "source": [
    "CORPUS_DIR = \"reuters/training\"\n",
    "documents = {}\n",
    "with open('reuters/stopwords.txt', 'r', encoding='utf-8') as file:\n",
    "    stop_words = set(word.strip() for word in file.readlines())"
   ]
  },
  {
   "cell_type": "code",
   "execution_count": 3,
   "metadata": {},
   "outputs": [],
   "source": [
    "def clean_text(*, text, stopwords):\n",
    "    text = re.sub(r'\\d+', '', text)\n",
    "    tokens = text.lower().translate(str.maketrans('', '', string.punctuation)).split(\" \")\n",
    "    stemmer = SnowballStemmer(\"spanish\")\n",
    "    no_stw = [token for token in tokens if token not in stopwords]\n",
    "    stemmed_tokens = [stemmer.stem(token) for token in no_stw]\n",
    "    text_cleaned = \" \".join(stemmed_tokens)\n",
    "    return text_cleaned"
   ]
  },
  {
   "cell_type": "markdown",
   "metadata": {},
   "source": [
    "Obtencion de un diccionario de textos limpios y libres de stopwords"
   ]
  },
  {
   "cell_type": "code",
   "execution_count": 4,
   "metadata": {},
   "outputs": [],
   "source": [
    "for filename in os.listdir(CORPUS_DIR):\n",
    "    if filename.endswith(\".txt\"):\n",
    "        filepath = os.path.join(CORPUS_DIR, filename)\n",
    "        with open(filepath, 'r', encoding='utf-8') as file:\n",
    "            text = file.read()\n",
    "            cleaned_text = clean_text(text=text,stopwords=stop_words)\n",
    "            documents[filename] = cleaned_text"
   ]
  },
  {
   "cell_type": "markdown",
   "metadata": {},
   "source": [
    "Creacion de directorios"
   ]
  },
  {
   "cell_type": "code",
   "execution_count": 5,
   "metadata": {},
   "outputs": [],
   "source": [
    "folders = ['API_resources', 'API_resources/bow', 'API_resources/tfidf']\n",
    "for folder in folders:\n",
    "    if not os.path.exists(folder):\n",
    "        os.makedirs(folder)"
   ]
  },
  {
   "cell_type": "markdown",
   "metadata": {},
   "source": [
    "## Aplicacion de Tecnicas de Vectorizacion\n",
    "Se empleara la libreria scikit-learn para la aplicacion de BoW y Tf-Idf"
   ]
  },
  {
   "cell_type": "code",
   "execution_count": 5,
   "metadata": {},
   "outputs": [
    {
     "data": {
      "text/plain": [
       "['API_resources/document_names.joblib']"
      ]
     },
     "execution_count": 5,
     "metadata": {},
     "output_type": "execute_result"
    }
   ],
   "source": [
    "document_names = list(documents.keys())\n",
    "joblib.dump(document_names, 'API_resources/document_names.joblib')"
   ]
  },
  {
   "cell_type": "markdown",
   "metadata": {},
   "source": [
    "### Aplicacion de BoW"
   ]
  },
  {
   "cell_type": "code",
   "execution_count": 6,
   "metadata": {},
   "outputs": [
    {
     "name": "stdout",
     "output_type": "stream",
     "text": [
      "['aa' 'aaa' 'aachen' ... 'zuyu' 'zverev' 'zzzz']\n",
      "[[0 0 0 ... 0 0 0]\n",
      " [0 0 0 ... 0 0 0]\n",
      " [0 0 0 ... 0 0 0]\n",
      " ...\n",
      " [0 0 0 ... 0 0 0]\n",
      " [0 0 0 ... 0 0 0]\n",
      " [0 0 0 ... 0 0 0]]\n"
     ]
    }
   ],
   "source": [
    "vectorizer_bow = CountVectorizer()\n",
    "bow_counts = vectorizer_bow.fit_transform(documents.values())\n",
    "onehot = Binarizer()\n",
    "bow_counts = onehot.fit_transform(bow_counts.toarray())\n",
    "print(vectorizer_bow.get_feature_names_out())\n",
    "print(bow_counts)"
   ]
  },
  {
   "cell_type": "markdown",
   "metadata": {},
   "source": [
    "Guardamos los objetos para usarlos proximamente en la API"
   ]
  },
  {
   "cell_type": "code",
   "execution_count": 27,
   "metadata": {},
   "outputs": [
    {
     "data": {
      "text/plain": [
       "['API_resources/bow/onehot.joblib']"
      ]
     },
     "execution_count": 27,
     "metadata": {},
     "output_type": "execute_result"
    }
   ],
   "source": [
    "joblib.dump(vectorizer_bow, 'API_resources/bow/vectorizer_bow.joblib')\n",
    "joblib.dump(bow_counts,'API_resources/bow/bow_counts.joblib')"
   ]
  },
  {
   "cell_type": "markdown",
   "metadata": {},
   "source": [
    "### Aplicacion de tf-Idf"
   ]
  },
  {
   "cell_type": "code",
   "execution_count": 7,
   "metadata": {},
   "outputs": [
    {
     "name": "stdout",
     "output_type": "stream",
     "text": [
      "['aa' 'aaa' 'aachen' ... 'zuyu' 'zverev' 'zzzz']\n",
      "[[0. 0. 0. ... 0. 0. 0.]\n",
      " [0. 0. 0. ... 0. 0. 0.]\n",
      " [0. 0. 0. ... 0. 0. 0.]\n",
      " ...\n",
      " [0. 0. 0. ... 0. 0. 0.]\n",
      " [0. 0. 0. ... 0. 0. 0.]\n",
      " [0. 0. 0. ... 0. 0. 0.]]\n"
     ]
    }
   ],
   "source": [
    "vectorizer_tfidf = TfidfVectorizer()\n",
    "tfidf_counts = vectorizer_tfidf.fit_transform(documents.values())\n",
    "print(vectorizer_tfidf.get_feature_names_out())\n",
    "print(tfidf_counts.toarray())"
   ]
  },
  {
   "cell_type": "markdown",
   "metadata": {},
   "source": [
    "Guardamos los objetos para usarlos proximamente en la API"
   ]
  },
  {
   "cell_type": "code",
   "execution_count": 30,
   "metadata": {},
   "outputs": [
    {
     "data": {
      "text/plain": [
       "['API_resources/tfidf/tfidf_counts.joblib']"
      ]
     },
     "execution_count": 30,
     "metadata": {},
     "output_type": "execute_result"
    }
   ],
   "source": [
    "joblib.dump(vectorizer_tfidf, 'API_resources/tfidf/vectorizer_tfidf.joblib')\n",
    "joblib.dump(tfidf_counts,'API_resources/tfidf/tfidf_counts.joblib')"
   ]
  },
  {
   "cell_type": "markdown",
   "metadata": {},
   "source": [
    "# Prueba de funcionamiento"
   ]
  },
  {
   "cell_type": "code",
   "execution_count": 8,
   "metadata": {},
   "outputs": [],
   "source": [
    "# Carga los objetos guardados\n",
    "vectorizer_tfidf = joblib.load('API_resources/tfidf/vectorizer_tfidf.joblib')\n",
    "tfidf_counts = joblib.load('API_resources/tfidf/tfidf_counts.joblib')"
   ]
  },
  {
   "cell_type": "code",
   "execution_count": 9,
   "metadata": {},
   "outputs": [
    {
     "name": "stdout",
     "output_type": "stream",
     "text": [
      "Número de documentos: 7769\n",
      "Tamaño de tfidf_counts: 7769\n"
     ]
    }
   ],
   "source": [
    "print(f\"Número de documentos: {len(documents)}\")\n",
    "print(f\"Tamaño de tfidf_counts: {tfidf_counts.shape[0]}\")"
   ]
  },
  {
   "cell_type": "code",
   "execution_count": 10,
   "metadata": {},
   "outputs": [],
   "source": [
    "def process_query(query, vectorizer, tfidf_matrix):\n",
    "    # Limpia y vectoriza la consulta\n",
    "    cleaned_query = clean_text(text=query, stopwords=stop_words)\n",
    "    query_vec = vectorizer.transform([cleaned_query])\n",
    "    \n",
    "    # Calcula la similitud coseno\n",
    "    cosine_similarities = cosine_similarity(query_vec, tfidf_matrix).flatten()\n",
    "    \n",
    "    # Obtiene los índices de los documentos más similares\n",
    "    related_docs_indices = cosine_similarities.argsort()[:-6:-1]\n",
    "    \n",
    "    return related_docs_indices, cosine_similarities"
   ]
  },
  {
   "cell_type": "code",
   "execution_count": 14,
   "metadata": {},
   "outputs": [
    {
     "name": "stdout",
     "output_type": "stream",
     "text": [
      "Documento: 3132.txt\n",
      "Similitud coseno: 0.3247133757319705\n",
      "---\n",
      "Documento: 97.txt\n",
      "Similitud coseno: 0.09721889984305128\n",
      "---\n",
      "Índice 7768 fuera de rango. Tamaño de document_names: 7769\n",
      "Índice 2592 fuera de rango. Tamaño de document_names: 7769\n",
      "Índice 2581 fuera de rango. Tamaño de document_names: 7769\n"
     ]
    }
   ],
   "source": [
    "# Realiza una consulta\n",
    "query = \"rye\"\n",
    "related_docs_indices, cosine_similarities = process_query(query, vectorizer_tfidf, tfidf_counts)\n",
    "\n",
    "# Muestra los resultados\n",
    "document_names = list(documents.keys())\n",
    "for idx in related_docs_indices:\n",
    "    if idx < len(document_names) and cosine_similarities[idx] > 0:\n",
    "        print(f\"Documento: {document_names[idx]}\")\n",
    "        print(f\"Similitud coseno: {cosine_similarities[idx]}\")\n",
    "        print(\"---\")"
   ]
  }
 ],
 "metadata": {
  "kernelspec": {
   "display_name": "env",
   "language": "python",
   "name": "python3"
  },
  "language_info": {
   "codemirror_mode": {
    "name": "ipython",
    "version": 3
   },
   "file_extension": ".py",
   "mimetype": "text/x-python",
   "name": "python",
   "nbconvert_exporter": "python",
   "pygments_lexer": "ipython3",
   "version": "3.8.10"
  }
 },
 "nbformat": 4,
 "nbformat_minor": 2
}
