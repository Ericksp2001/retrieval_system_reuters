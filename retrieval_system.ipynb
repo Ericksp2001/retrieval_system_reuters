{
 "cells": [
  {
   "cell_type": "code",
   "execution_count": 22,
   "metadata": {},
   "outputs": [],
   "source": [
    "import string\n",
    "from nltk.stem import *\n",
    "import os\n",
    "from sklearn.feature_extraction.text import CountVectorizer\n",
    "from sklearn.preprocessing import Binarizer\n",
    "from sklearn.feature_extraction.text import TfidfVectorizer\n",
    "import re\n",
    "import joblib"
   ]
  },
  {
   "cell_type": "markdown",
   "metadata": {},
   "source": [
    "# Preprocesamiento\n",
    "Se limpian los datos retirando las stopwords que se indica en el archivo ademas de aplicar la tecnica de stimming a todo el corpus"
   ]
  },
  {
   "cell_type": "code",
   "execution_count": 23,
   "metadata": {},
   "outputs": [],
   "source": [
    "CORPUS_DIR = \"reuters/training\"\n",
    "documents = {}\n",
    "with open('reuters/stopwords.txt', 'r', encoding='utf-8') as file:\n",
    "    stop_words = set(word.strip() for word in file.readlines())"
   ]
  },
  {
   "cell_type": "code",
   "execution_count": 24,
   "metadata": {},
   "outputs": [],
   "source": [
    "def clean_text(*, text, stopwords):\n",
    "    text = re.sub(r'\\d+', '', text)\n",
    "    tokens = text.lower().translate(str.maketrans('', '', string.punctuation)).split(\" \")\n",
    "    stemmer = SnowballStemmer(\"spanish\")\n",
    "    no_stw = [token for token in tokens if token not in stopwords]\n",
    "    stemmed_tokens = [stemmer.stem(token) for token in no_stw]\n",
    "    text_cleaned = \" \".join(stemmed_tokens)\n",
    "    return text_cleaned"
   ]
  },
  {
   "cell_type": "markdown",
   "metadata": {},
   "source": [
    "Obtencion de un diccionario de textos limpios y libres de stopwords"
   ]
  },
  {
   "cell_type": "code",
   "execution_count": 25,
   "metadata": {},
   "outputs": [],
   "source": [
    "for filename in os.listdir(CORPUS_DIR):\n",
    "    if filename.endswith(\".txt\"):\n",
    "        filepath = os.path.join(CORPUS_DIR, filename)\n",
    "        with open(filepath, 'r', encoding='utf-8') as file:\n",
    "            text = file.read()\n",
    "            cleaned_text = clean_text(text=text,stopwords=stop_words)\n",
    "            documents[filename] = cleaned_text"
   ]
  },
  {
   "cell_type": "markdown",
   "metadata": {},
   "source": [
    "Creacion de directorios"
   ]
  },
  {
   "cell_type": "code",
   "execution_count": null,
   "metadata": {},
   "outputs": [],
   "source": [
    "folders = ['API_resources', 'API_resources/bow', 'API_resources/tfidf']\n",
    "for folder in folders:\n",
    "    if not os.path.exists(folder):\n",
    "        os.makedirs(folder)"
   ]
  },
  {
   "cell_type": "markdown",
   "metadata": {},
   "source": [
    "## Aplicacion de Tecnicas de Vectorizacion\n",
    "Se empleara la libreria scikit-learn para la aplicacion de BoW y Tf-Idf"
   ]
  },
  {
   "cell_type": "markdown",
   "metadata": {},
   "source": [
    "### Aplicacion de BoW"
   ]
  },
  {
   "cell_type": "code",
   "execution_count": 26,
   "metadata": {},
   "outputs": [
    {
     "name": "stdout",
     "output_type": "stream",
     "text": [
      "['aa' 'aaa' 'aachen' ... 'zuyu' 'zverev' 'zzzz']\n",
      "[[0 0 0 ... 0 0 0]\n",
      " [0 0 0 ... 0 0 0]\n",
      " [0 0 0 ... 0 0 0]\n",
      " ...\n",
      " [0 0 0 ... 0 0 0]\n",
      " [0 0 0 ... 0 0 0]\n",
      " [0 0 0 ... 0 0 0]]\n"
     ]
    }
   ],
   "source": [
    "vectorizer_bow = CountVectorizer()\n",
    "bow_counts = vectorizer_bow.fit_transform(documents.values())\n",
    "onehot = Binarizer()\n",
    "bow_counts = onehot.fit_transform(bow_counts.toarray())\n",
    "print(vectorizer_bow.get_feature_names_out())\n",
    "print(bow_counts)"
   ]
  },
  {
   "cell_type": "markdown",
   "metadata": {},
   "source": [
    "Guardamos los objetos para usarlos proximamente en la API"
   ]
  },
  {
   "cell_type": "code",
   "execution_count": 27,
   "metadata": {},
   "outputs": [
    {
     "data": {
      "text/plain": [
       "['API_resources/bow/onehot.joblib']"
      ]
     },
     "execution_count": 27,
     "metadata": {},
     "output_type": "execute_result"
    }
   ],
   "source": [
    "joblib.dump(vectorizer_bow, 'API_resources/bow/vectorizer_bow.joblib')\n",
    "joblib.dump(bow_counts,'API_resources/bow/bow_counts.joblib')\n",
    "joblib.dump(onehot, 'API_resources/bow/onehot.joblib')"
   ]
  },
  {
   "cell_type": "markdown",
   "metadata": {},
   "source": [
    "### Aplicacion de tf-Idf"
   ]
  },
  {
   "cell_type": "code",
   "execution_count": 28,
   "metadata": {},
   "outputs": [
    {
     "name": "stdout",
     "output_type": "stream",
     "text": [
      "['aa' 'aaa' 'aachen' ... 'zuyu' 'zverev' 'zzzz']\n",
      "[[0. 0. 0. ... 0. 0. 0.]\n",
      " [0. 0. 0. ... 0. 0. 0.]\n",
      " [0. 0. 0. ... 0. 0. 0.]\n",
      " ...\n",
      " [0. 0. 0. ... 0. 0. 0.]\n",
      " [0. 0. 0. ... 0. 0. 0.]\n",
      " [0. 0. 0. ... 0. 0. 0.]]\n"
     ]
    }
   ],
   "source": [
    "vectorizer_tfidf = TfidfVectorizer()\n",
    "tfidf_counts = vectorizer_tfidf.fit_transform(documents.values())\n",
    "print(vectorizer_tfidf.get_feature_names_out())\n",
    "print(tfidf_counts.toarray())"
   ]
  },
  {
   "cell_type": "markdown",
   "metadata": {},
   "source": [
    "Guardamos los objetos para usarlos proximamente en la API"
   ]
  },
  {
   "cell_type": "code",
   "execution_count": 30,
   "metadata": {},
   "outputs": [
    {
     "data": {
      "text/plain": [
       "['API_resources/tfidf/tfidf_counts.joblib']"
      ]
     },
     "execution_count": 30,
     "metadata": {},
     "output_type": "execute_result"
    }
   ],
   "source": [
    "joblib.dump(vectorizer_tfidf, 'API_resources/tfidf/vectorizer_tfidf.joblib')\n",
    "joblib.dump(tfidf_counts,'API_resources/tfidf/tfidf_counts.joblib')"
   ]
  }
 ],
 "metadata": {
  "kernelspec": {
   "display_name": "env",
   "language": "python",
   "name": "python3"
  },
  "language_info": {
   "codemirror_mode": {
    "name": "ipython",
    "version": 3
   },
   "file_extension": ".py",
   "mimetype": "text/x-python",
   "name": "python",
   "nbconvert_exporter": "python",
   "pygments_lexer": "ipython3",
   "version": "3.8.10"
  }
 },
 "nbformat": 4,
 "nbformat_minor": 2
}
