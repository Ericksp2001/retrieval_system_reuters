{
 "cells": [
  {
   "cell_type": "code",
   "execution_count": 1,
   "metadata": {},
   "outputs": [],
   "source": [
    "import json\n",
    "import requests"
   ]
  },
  {
   "cell_type": "markdown",
   "metadata": {},
   "source": [
    "# Metricas y testeo\n",
    "Se calcularan las metricas de recall y precision para cada una de las categorias que tenemos como ground truth definidas en el archivo cat.txt"
   ]
  },
  {
   "cell_type": "markdown",
   "metadata": {},
   "source": [
    "### Obtencion de Informacion\n",
    "Se crearan funciones que permitiran obtener la informacion necesaria para el calculo tanto desde la API como desde el archivo cats.txt"
   ]
  },
  {
   "cell_type": "code",
   "execution_count": null,
   "metadata": {},
   "outputs": [],
   "source": [
    "def read_queries_from_file(file_path):\n",
    "    queries = []\n",
    "    with open(file_path, 'r') as file:\n",
    "        for line in file:\n",
    "            # Dividir cada línea en dos partes: nombre de la consulta y números\n",
    "            parts = line.strip().split(': ')\n",
    "            if len(parts) == 2:\n",
    "                query_name = parts[0]\n",
    "                numbers = set(map(int, parts[1].split(', ')))\n",
    "                queries.append((query_name, numbers))\n",
    "    return queries"
   ]
  },
  {
   "cell_type": "code",
   "execution_count": null,
   "metadata": {},
   "outputs": [],
   "source": [
    "def test_api(query):\n",
    "    url = 'http://127.0.0.1:5000/process/tfidf'\n",
    "    headers = {'Content-Type': 'application/json'}\n",
    "\n",
    "    payload = {\n",
    "        \"query\": query,\n",
    "    }\n",
    "\n",
    "    try:\n",
    "        response = requests.post(url, json=payload, headers=headers)\n",
    "        response.raise_for_status()\n",
    "        data = response.json()\n",
    "        data_str = json.dumps(data)\n",
    "            \n",
    "    except requests.exceptions.RequestException as e:\n",
    "        print(f\"Error al hacer la solicitud para query '{query}':\", e)\n",
    "    \n",
    "    return data_str"
   ]
  },
  {
   "cell_type": "code",
   "execution_count": null,
   "metadata": {},
   "outputs": [],
   "source": []
  }
 ],
 "metadata": {
  "kernelspec": {
   "display_name": "env",
   "language": "python",
   "name": "python3"
  },
  "language_info": {
   "codemirror_mode": {
    "name": "ipython",
    "version": 3
   },
   "file_extension": ".py",
   "mimetype": "text/x-python",
   "name": "python",
   "nbconvert_exporter": "python",
   "pygments_lexer": "ipython3",
   "version": "3.8.10"
  }
 },
 "nbformat": 4,
 "nbformat_minor": 2
}
