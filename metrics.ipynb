{
 "cells": [
  {
   "cell_type": "code",
   "execution_count": 12,
   "metadata": {},
   "outputs": [],
   "source": [
    "import json\n",
    "import requests\n",
    "import pandas as pd\n",
    "import os\n",
    "import re\n",
    "import matplotlib.pyplot as plt\n",
    "import seaborn as sns"
   ]
  },
  {
   "cell_type": "markdown",
   "metadata": {},
   "source": [
    "# Metricas y testeo\n",
    "Se calcularan las metricas de recall y precision para cada una de las categorias que tenemos como ground truth definidas en el archivo cat.txt"
   ]
  },
  {
   "cell_type": "markdown",
   "metadata": {},
   "source": [
    "### Obtencion de Informacion\n",
    "Se crearan funciones que permitiran obtener la informacion necesaria para el calculo tanto desde la API como desde el archivo cats.txt procesado que resulta en el archivo testing.txt (Se invirtio la logica del mismo)"
   ]
  },
  {
   "cell_type": "code",
   "execution_count": 2,
   "metadata": {},
   "outputs": [],
   "source": [
    "def extract_numbers_from_response(api_response):\n",
    "    numbers = re.findall(r'\\d+', api_response)\n",
    "    return [int(number) for number in numbers]"
   ]
  },
  {
   "cell_type": "code",
   "execution_count": 3,
   "metadata": {},
   "outputs": [],
   "source": [
    "def read_queries_from_file(file_path):\n",
    "    queries = []\n",
    "    with open(file_path, 'r') as file:\n",
    "        for line in file:\n",
    "            # Dividir cada línea en dos partes: nombre de la consulta y números\n",
    "            parts = line.strip().split(': ')\n",
    "            if len(parts) == 2:\n",
    "                query_name = parts[0]\n",
    "                numbers = set(map(int, parts[1].split(', ')))\n",
    "                queries.append((query_name, numbers))\n",
    "    return queries"
   ]
  },
  {
   "cell_type": "code",
   "execution_count": 4,
   "metadata": {},
   "outputs": [],
   "source": [
    "def test_api(query):\n",
    "    url_tfidf = 'http://127.0.0.1:5000/process/tfidf/'\n",
    "    url_bow = 'http://127.0.0.1:5000/process/bow/'\n",
    "    headers = {'Content-Type': 'application/json'}\n",
    "\n",
    "    payload = {\n",
    "        \"query\": query,\n",
    "    }\n",
    "\n",
    "    responses = {}\n",
    "\n",
    "    try:\n",
    "        response_tfidf = requests.post(url_tfidf, json=payload, headers=headers)\n",
    "        response_tfidf.raise_for_status()\n",
    "        data_tfidf = response_tfidf.json()\n",
    "        first_tfidf_doc = [doc[0] for doc in data_tfidf['cosine_similarities']]\n",
    "        responses['tfidf'] = extract_numbers_from_response(json.dumps(first_tfidf_doc))\n",
    "    except requests.exceptions.RequestException as e:\n",
    "        print(f\"Error al hacer la solicitud TF-IDF para query '{query}':\", e)\n",
    "        responses['tfidf'] = None\n",
    "\n",
    "    try:\n",
    "        response_bow = requests.post(url_bow, json=payload, headers=headers)\n",
    "        response_bow.raise_for_status()\n",
    "        data_bow = response_bow.json()\n",
    "        first_bow_doc = [doc[0] for doc in data_bow['jaccard_similarities']]\n",
    "        responses['bow'] = extract_numbers_from_response(json.dumps(first_bow_doc))\n",
    "    except requests.exceptions.RequestException as e:\n",
    "        print(f\"Error al hacer la solicitud BoW para query '{query}':\", e)\n",
    "        responses['bow'] = None\n",
    "\n",
    "    return responses"
   ]
  },
  {
   "cell_type": "markdown",
   "metadata": {},
   "source": [
    "### Calculo de metricas\n",
    "Se definiran las funciones que se usaran para el calculo de las metricas respectivas"
   ]
  },
  {
   "cell_type": "code",
   "execution_count": 5,
   "metadata": {},
   "outputs": [],
   "source": [
    "def calculo_precision(predichos, gt):\n",
    "    TP = len(predichos.intersection(gt))\n",
    "    FP = len(predichos.difference(gt))\n",
    "    total = TP + FP\n",
    "    \n",
    "    if total == 0:\n",
    "        return 0.0  # Evita división por cero\n",
    "    \n",
    "    precision = TP / total\n",
    "    return precision * 100"
   ]
  },
  {
   "cell_type": "code",
   "execution_count": 6,
   "metadata": {},
   "outputs": [],
   "source": [
    "def calculo_recall(predichos, gt):\n",
    "    TP = len(predichos.intersection(gt))\n",
    "    FN = len(gt.difference(predichos))\n",
    "    total = TP + FN\n",
    "    \n",
    "    if total == 0:\n",
    "        return 0.0  # Evita división por cero\n",
    "    \n",
    "    recall = TP / total\n",
    "    return recall * 100"
   ]
  },
  {
   "cell_type": "markdown",
   "metadata": {},
   "source": [
    "### Creacion de Dataframes\n",
    "Se usaran dataframes para una mejor visualizacion de los resultados obtenidos"
   ]
  },
  {
   "cell_type": "code",
   "execution_count": 7,
   "metadata": {},
   "outputs": [],
   "source": [
    "file_path = os.path.join(os.getcwd(), 'reuters', 'testing.txt')\n",
    "queries = read_queries_from_file(file_path)\n",
    "df_predictions_bow = pd.DataFrame(columns=['query', 'recall', 'precision'])\n",
    "df_predictions_tf_idf = pd.DataFrame(columns=['query', 'recall', 'precision'])"
   ]
  },
  {
   "cell_type": "markdown",
   "metadata": {},
   "source": [
    "### Generación de Métricas\n",
    "Se iterara a lo largo del contenido del archivo testing y se ira comparando los resultados en el con los resultados de la API cabe mencionar que este proceso se realizo con un umbral de similitud de 0.2 el mismo que debe cambiarse en la API"
   ]
  },
  {
   "cell_type": "code",
   "execution_count": 8,
   "metadata": {},
   "outputs": [],
   "source": [
    "rows_bow = []\n",
    "rows_tf_idf = []\n",
    "\n",
    "for query_name, gt_set in queries:\n",
    "    response = test_api(query_name)\n",
    "    results_bow = set(response[\"bow\"])\n",
    "    results_tf_idf = set(response[\"tfidf\"])\n",
    "\n",
    "    # Calcula recall y precision para BoW\n",
    "    new_row_bow = {\n",
    "        'query': query_name,\n",
    "        'recall': calculo_recall(results_bow, gt_set),\n",
    "        'precision': calculo_precision(results_bow, gt_set)\n",
    "    }\n",
    "    rows_bow.append(new_row_bow)\n",
    "    \n",
    "    # Calcula recall y precision para TF-IDF\n",
    "    new_row_tf_idf = {\n",
    "        'query': query_name,\n",
    "        'recall': calculo_recall(results_tf_idf, gt_set),\n",
    "        'precision': calculo_precision(results_tf_idf, gt_set)\n",
    "    }\n",
    "    rows_tf_idf.append(new_row_tf_idf)\n",
    "\n",
    "# Convierte las listas de diccionarios a DataFrames\n",
    "df_predictions_bow = pd.DataFrame(rows_bow)\n",
    "df_predictions_tf_idf = pd.DataFrame(rows_tf_idf)"
   ]
  },
  {
   "cell_type": "markdown",
   "metadata": {},
   "source": [
    "### Visualizacion"
   ]
  },
  {
   "cell_type": "code",
   "execution_count": 9,
   "metadata": {},
   "outputs": [
    {
     "data": {
      "text/html": [
       "<div>\n",
       "<style scoped>\n",
       "    .dataframe tbody tr th:only-of-type {\n",
       "        vertical-align: middle;\n",
       "    }\n",
       "\n",
       "    .dataframe tbody tr th {\n",
       "        vertical-align: top;\n",
       "    }\n",
       "\n",
       "    .dataframe thead th {\n",
       "        text-align: right;\n",
       "    }\n",
       "</style>\n",
       "<table border=\"1\" class=\"dataframe\">\n",
       "  <thead>\n",
       "    <tr style=\"text-align: right;\">\n",
       "      <th></th>\n",
       "      <th>query</th>\n",
       "      <th>recall</th>\n",
       "      <th>precision</th>\n",
       "    </tr>\n",
       "  </thead>\n",
       "  <tbody>\n",
       "    <tr>\n",
       "      <th>0</th>\n",
       "      <td>cocoa</td>\n",
       "      <td>65.454545</td>\n",
       "      <td>94.736842</td>\n",
       "    </tr>\n",
       "    <tr>\n",
       "      <th>1</th>\n",
       "      <td>sorghum</td>\n",
       "      <td>66.666667</td>\n",
       "      <td>76.190476</td>\n",
       "    </tr>\n",
       "    <tr>\n",
       "      <th>2</th>\n",
       "      <td>oat</td>\n",
       "      <td>75.000000</td>\n",
       "      <td>50.000000</td>\n",
       "    </tr>\n",
       "    <tr>\n",
       "      <th>3</th>\n",
       "      <td>barley</td>\n",
       "      <td>97.297297</td>\n",
       "      <td>76.595745</td>\n",
       "    </tr>\n",
       "    <tr>\n",
       "      <th>4</th>\n",
       "      <td>corn</td>\n",
       "      <td>59.116022</td>\n",
       "      <td>86.290323</td>\n",
       "    </tr>\n",
       "    <tr>\n",
       "      <th>...</th>\n",
       "      <td>...</td>\n",
       "      <td>...</td>\n",
       "      <td>...</td>\n",
       "    </tr>\n",
       "    <tr>\n",
       "      <th>85</th>\n",
       "      <td>rand</td>\n",
       "      <td>0.000000</td>\n",
       "      <td>0.000000</td>\n",
       "    </tr>\n",
       "    <tr>\n",
       "      <th>86</th>\n",
       "      <td>coconut</td>\n",
       "      <td>100.000000</td>\n",
       "      <td>50.000000</td>\n",
       "    </tr>\n",
       "    <tr>\n",
       "      <th>87</th>\n",
       "      <td>castor-oil</td>\n",
       "      <td>0.000000</td>\n",
       "      <td>0.000000</td>\n",
       "    </tr>\n",
       "    <tr>\n",
       "      <th>88</th>\n",
       "      <td>nkr</td>\n",
       "      <td>0.000000</td>\n",
       "      <td>0.000000</td>\n",
       "    </tr>\n",
       "    <tr>\n",
       "      <th>89</th>\n",
       "      <td>sun-meal</td>\n",
       "      <td>0.000000</td>\n",
       "      <td>0.000000</td>\n",
       "    </tr>\n",
       "  </tbody>\n",
       "</table>\n",
       "<p>90 rows × 3 columns</p>\n",
       "</div>"
      ],
      "text/plain": [
       "         query      recall  precision\n",
       "0        cocoa   65.454545  94.736842\n",
       "1      sorghum   66.666667  76.190476\n",
       "2          oat   75.000000  50.000000\n",
       "3       barley   97.297297  76.595745\n",
       "4         corn   59.116022  86.290323\n",
       "..         ...         ...        ...\n",
       "85        rand    0.000000   0.000000\n",
       "86     coconut  100.000000  50.000000\n",
       "87  castor-oil    0.000000   0.000000\n",
       "88         nkr    0.000000   0.000000\n",
       "89    sun-meal    0.000000   0.000000\n",
       "\n",
       "[90 rows x 3 columns]"
      ]
     },
     "execution_count": 9,
     "metadata": {},
     "output_type": "execute_result"
    }
   ],
   "source": [
    "df_predictions_bow"
   ]
  },
  {
   "cell_type": "code",
   "execution_count": 10,
   "metadata": {},
   "outputs": [
    {
     "data": {
      "text/html": [
       "<div>\n",
       "<style scoped>\n",
       "    .dataframe tbody tr th:only-of-type {\n",
       "        vertical-align: middle;\n",
       "    }\n",
       "\n",
       "    .dataframe tbody tr th {\n",
       "        vertical-align: top;\n",
       "    }\n",
       "\n",
       "    .dataframe thead th {\n",
       "        text-align: right;\n",
       "    }\n",
       "</style>\n",
       "<table border=\"1\" class=\"dataframe\">\n",
       "  <thead>\n",
       "    <tr style=\"text-align: right;\">\n",
       "      <th></th>\n",
       "      <th>query</th>\n",
       "      <th>recall</th>\n",
       "      <th>precision</th>\n",
       "    </tr>\n",
       "  </thead>\n",
       "  <tbody>\n",
       "    <tr>\n",
       "      <th>0</th>\n",
       "      <td>cocoa</td>\n",
       "      <td>76.363636</td>\n",
       "      <td>100.000000</td>\n",
       "    </tr>\n",
       "    <tr>\n",
       "      <th>1</th>\n",
       "      <td>sorghum</td>\n",
       "      <td>20.833333</td>\n",
       "      <td>83.333333</td>\n",
       "    </tr>\n",
       "    <tr>\n",
       "      <th>2</th>\n",
       "      <td>oat</td>\n",
       "      <td>50.000000</td>\n",
       "      <td>57.142857</td>\n",
       "    </tr>\n",
       "    <tr>\n",
       "      <th>3</th>\n",
       "      <td>barley</td>\n",
       "      <td>62.162162</td>\n",
       "      <td>85.185185</td>\n",
       "    </tr>\n",
       "    <tr>\n",
       "      <th>4</th>\n",
       "      <td>corn</td>\n",
       "      <td>41.988950</td>\n",
       "      <td>95.000000</td>\n",
       "    </tr>\n",
       "    <tr>\n",
       "      <th>...</th>\n",
       "      <td>...</td>\n",
       "      <td>...</td>\n",
       "      <td>...</td>\n",
       "    </tr>\n",
       "    <tr>\n",
       "      <th>85</th>\n",
       "      <td>rand</td>\n",
       "      <td>100.000000</td>\n",
       "      <td>11.764706</td>\n",
       "    </tr>\n",
       "    <tr>\n",
       "      <th>86</th>\n",
       "      <td>coconut</td>\n",
       "      <td>100.000000</td>\n",
       "      <td>80.000000</td>\n",
       "    </tr>\n",
       "    <tr>\n",
       "      <th>87</th>\n",
       "      <td>castor-oil</td>\n",
       "      <td>0.000000</td>\n",
       "      <td>0.000000</td>\n",
       "    </tr>\n",
       "    <tr>\n",
       "      <th>88</th>\n",
       "      <td>nkr</td>\n",
       "      <td>0.000000</td>\n",
       "      <td>0.000000</td>\n",
       "    </tr>\n",
       "    <tr>\n",
       "      <th>89</th>\n",
       "      <td>sun-meal</td>\n",
       "      <td>0.000000</td>\n",
       "      <td>0.000000</td>\n",
       "    </tr>\n",
       "  </tbody>\n",
       "</table>\n",
       "<p>90 rows × 3 columns</p>\n",
       "</div>"
      ],
      "text/plain": [
       "         query      recall   precision\n",
       "0        cocoa   76.363636  100.000000\n",
       "1      sorghum   20.833333   83.333333\n",
       "2          oat   50.000000   57.142857\n",
       "3       barley   62.162162   85.185185\n",
       "4         corn   41.988950   95.000000\n",
       "..         ...         ...         ...\n",
       "85        rand  100.000000   11.764706\n",
       "86     coconut  100.000000   80.000000\n",
       "87  castor-oil    0.000000    0.000000\n",
       "88         nkr    0.000000    0.000000\n",
       "89    sun-meal    0.000000    0.000000\n",
       "\n",
       "[90 rows x 3 columns]"
      ]
     },
     "execution_count": 10,
     "metadata": {},
     "output_type": "execute_result"
    }
   ],
   "source": [
    "df_predictions_tf_idf"
   ]
  },
  {
   "cell_type": "code",
   "execution_count": 14,
   "metadata": {},
   "outputs": [
    {
     "data": {
      "image/png": "[encoded data removed]",
      "text/plain": [
       "<Figure size 1400x800 with 1 Axes>"
      ]
     },
     "metadata": {},
     "output_type": "display_data"
    }
   ],
   "source": [
    "df_melted = df_predictions_bow.melt(id_vars='query', value_vars=['recall', 'precision'], var_name='metric', value_name='value')\n",
    "plt.figure(figsize=(14, 8))\n",
    "sns.barplot(x='query', y='value', hue='metric', data=df_melted)\n",
    "plt.xticks(rotation=90)\n",
    "plt.title('Recall y Precision por Query')\n",
    "plt.show()"
   ]
  },
  {
   "cell_type": "code",
   "execution_count": 11,
   "metadata": {},
   "outputs": [
    {
     "data": {
      "text/html": [
       "<div>\n",
       "<style scoped>\n",
       "    .dataframe tbody tr th:only-of-type {\n",
       "        vertical-align: middle;\n",
       "    }\n",
       "\n",
       "    .dataframe tbody tr th {\n",
       "        vertical-align: top;\n",
       "    }\n",
       "\n",
       "    .dataframe thead th {\n",
       "        text-align: right;\n",
       "    }\n",
       "</style>\n",
       "<table border=\"1\" class=\"dataframe\">\n",
       "  <thead>\n",
       "    <tr style=\"text-align: right;\">\n",
       "      <th></th>\n",
       "      <th>Recall</th>\n",
       "      <th>Precision</th>\n",
       "    </tr>\n",
       "  </thead>\n",
       "  <tbody>\n",
       "    <tr>\n",
       "      <th>BoW</th>\n",
       "      <td>38.551323</td>\n",
       "      <td>36.144797</td>\n",
       "    </tr>\n",
       "    <tr>\n",
       "      <th>TF-IDF</th>\n",
       "      <td>25.144300</td>\n",
       "      <td>41.305972</td>\n",
       "    </tr>\n",
       "  </tbody>\n",
       "</table>\n",
       "</div>"
      ],
      "text/plain": [
       "           Recall  Precision\n",
       "BoW     38.551323  36.144797\n",
       "TF-IDF  25.144300  41.305972"
      ]
     },
     "execution_count": 11,
     "metadata": {},
     "output_type": "execute_result"
    }
   ],
   "source": [
    "promedio_recall_bow = df_predictions_bow['recall'].mean()\n",
    "promedio_precision_bow = df_predictions_bow['precision'].mean()\n",
    "promedio_recall_tf_idf = df_predictions_tf_idf['recall'].mean()\n",
    "promedio_precision_tf_idf = df_predictions_tf_idf['precision'].mean()\n",
    "\n",
    "# Crear un diccionario con los datos\n",
    "data = {\n",
    "    'Recall': [promedio_recall_bow, promedio_recall_tf_idf],\n",
    "    'Precision': [promedio_precision_bow, promedio_precision_tf_idf]\n",
    "}\n",
    "\n",
    "# Crear un DataFrame con las filas y columnas especificadas\n",
    "df_promedios = pd.DataFrame(data, index=['BoW', 'TF-IDF'])\n",
    "\n",
    "df_promedios"
   ]
  }
 ],
 "metadata": {
  "kernelspec": {
   "display_name": "env",
   "language": "python",
   "name": "python3"
  },
  "language_info": {
   "codemirror_mode": {
    "name": "ipython",
    "version": 3
   },
   "file_extension": ".py",
   "mimetype": "text/x-python",
   "name": "python",
   "nbconvert_exporter": "python",
   "pygments_lexer": "ipython3",
   "version": "3.8.10"
  }
 },
 "nbformat": 4,
 "nbformat_minor": 2
}
